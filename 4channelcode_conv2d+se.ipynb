{
  "nbformat": 4,
  "nbformat_minor": 0,
  "metadata": {
    "colab": {
      "provenance": []
    },
    "kernelspec": {
      "name": "python3",
      "display_name": "Python 3"
    },
    "language_info": {
      "name": "python"
    }
  },
  "cells": [
    {
      "cell_type": "code",
      "execution_count": 1,
      "metadata": {
        "colab": {
          "base_uri": "https://localhost:8080/"
        },
        "id": "l8-A7toXPQZO",
        "outputId": "9dcd5a0c-725a-4346-8f02-a7d118234d47"
      },
      "outputs": [
        {
          "output_type": "stream",
          "name": "stdout",
          "text": [
            "Mounted at /content/drive\n"
          ]
        }
      ],
      "source": [
        "from google.colab import drive\n",
        "drive.mount('/content/drive')"
      ]
    },
    {
      "cell_type": "code",
      "source": [
        "import numpy as np # linear algebra\n",
        "import pandas as pd # data processing, CSV file I/O (e.g. pd.read_csv)\n",
        "import tensorflow as tf\n",
        "from tensorflow import keras\n",
        "import matplotlib.pyplot as plt\n",
        "import seaborn as sns\n",
        "import librosa.display\n",
        "import librosa as lb\n",
        "import os"
      ],
      "metadata": {
        "id": "sKgGRU3UQDWH"
      },
      "execution_count": 2,
      "outputs": []
    },
    {
      "cell_type": "code",
      "source": [
        "patient_data=pd.read_csv('/content/drive/MyDrive/CNN_Detection/respiratory_sound_dataset/respiratory_sound_database/Respiratory_Sound_Database/patient_diagnosis.csv',names=['pid','disease'])\n",
        "patient_data.head()"
      ],
      "metadata": {
        "colab": {
          "base_uri": "https://localhost:8080/",
          "height": 206
        },
        "id": "bremuWmyQQC_",
        "outputId": "ba428d5b-8133-4e10-ca94-a48c5334eb80"
      },
      "execution_count": 3,
      "outputs": [
        {
          "output_type": "execute_result",
          "data": {
            "text/plain": [
              "   pid  disease\n",
              "0  101     URTI\n",
              "1  102  Healthy\n",
              "2  103   Asthma\n",
              "3  104     COPD\n",
              "4  105     URTI"
            ],
            "text/html": [
              "\n",
              "  <div id=\"df-3875f71b-7c74-45f2-a90a-a3523ffdfc12\">\n",
              "    <div class=\"colab-df-container\">\n",
              "      <div>\n",
              "<style scoped>\n",
              "    .dataframe tbody tr th:only-of-type {\n",
              "        vertical-align: middle;\n",
              "    }\n",
              "\n",
              "    .dataframe tbody tr th {\n",
              "        vertical-align: top;\n",
              "    }\n",
              "\n",
              "    .dataframe thead th {\n",
              "        text-align: right;\n",
              "    }\n",
              "</style>\n",
              "<table border=\"1\" class=\"dataframe\">\n",
              "  <thead>\n",
              "    <tr style=\"text-align: right;\">\n",
              "      <th></th>\n",
              "      <th>pid</th>\n",
              "      <th>disease</th>\n",
              "    </tr>\n",
              "  </thead>\n",
              "  <tbody>\n",
              "    <tr>\n",
              "      <th>0</th>\n",
              "      <td>101</td>\n",
              "      <td>URTI</td>\n",
              "    </tr>\n",
              "    <tr>\n",
              "      <th>1</th>\n",
              "      <td>102</td>\n",
              "      <td>Healthy</td>\n",
              "    </tr>\n",
              "    <tr>\n",
              "      <th>2</th>\n",
              "      <td>103</td>\n",
              "      <td>Asthma</td>\n",
              "    </tr>\n",
              "    <tr>\n",
              "      <th>3</th>\n",
              "      <td>104</td>\n",
              "      <td>COPD</td>\n",
              "    </tr>\n",
              "    <tr>\n",
              "      <th>4</th>\n",
              "      <td>105</td>\n",
              "      <td>URTI</td>\n",
              "    </tr>\n",
              "  </tbody>\n",
              "</table>\n",
              "</div>\n",
              "      <button class=\"colab-df-convert\" onclick=\"convertToInteractive('df-3875f71b-7c74-45f2-a90a-a3523ffdfc12')\"\n",
              "              title=\"Convert this dataframe to an interactive table.\"\n",
              "              style=\"display:none;\">\n",
              "        \n",
              "  <svg xmlns=\"http://www.w3.org/2000/svg\" height=\"24px\"viewBox=\"0 0 24 24\"\n",
              "       width=\"24px\">\n",
              "    <path d=\"M0 0h24v24H0V0z\" fill=\"none\"/>\n",
              "    <path d=\"M18.56 5.44l.94 2.06.94-2.06 2.06-.94-2.06-.94-.94-2.06-.94 2.06-2.06.94zm-11 1L8.5 8.5l.94-2.06 2.06-.94-2.06-.94L8.5 2.5l-.94 2.06-2.06.94zm10 10l.94 2.06.94-2.06 2.06-.94-2.06-.94-.94-2.06-.94 2.06-2.06.94z\"/><path d=\"M17.41 7.96l-1.37-1.37c-.4-.4-.92-.59-1.43-.59-.52 0-1.04.2-1.43.59L10.3 9.45l-7.72 7.72c-.78.78-.78 2.05 0 2.83L4 21.41c.39.39.9.59 1.41.59.51 0 1.02-.2 1.41-.59l7.78-7.78 2.81-2.81c.8-.78.8-2.07 0-2.86zM5.41 20L4 18.59l7.72-7.72 1.47 1.35L5.41 20z\"/>\n",
              "  </svg>\n",
              "      </button>\n",
              "      \n",
              "  <style>\n",
              "    .colab-df-container {\n",
              "      display:flex;\n",
              "      flex-wrap:wrap;\n",
              "      gap: 12px;\n",
              "    }\n",
              "\n",
              "    .colab-df-convert {\n",
              "      background-color: #E8F0FE;\n",
              "      border: none;\n",
              "      border-radius: 50%;\n",
              "      cursor: pointer;\n",
              "      display: none;\n",
              "      fill: #1967D2;\n",
              "      height: 32px;\n",
              "      padding: 0 0 0 0;\n",
              "      width: 32px;\n",
              "    }\n",
              "\n",
              "    .colab-df-convert:hover {\n",
              "      background-color: #E2EBFA;\n",
              "      box-shadow: 0px 1px 2px rgba(60, 64, 67, 0.3), 0px 1px 3px 1px rgba(60, 64, 67, 0.15);\n",
              "      fill: #174EA6;\n",
              "    }\n",
              "\n",
              "    [theme=dark] .colab-df-convert {\n",
              "      background-color: #3B4455;\n",
              "      fill: #D2E3FC;\n",
              "    }\n",
              "\n",
              "    [theme=dark] .colab-df-convert:hover {\n",
              "      background-color: #434B5C;\n",
              "      box-shadow: 0px 1px 3px 1px rgba(0, 0, 0, 0.15);\n",
              "      filter: drop-shadow(0px 1px 2px rgba(0, 0, 0, 0.3));\n",
              "      fill: #FFFFFF;\n",
              "    }\n",
              "  </style>\n",
              "\n",
              "      <script>\n",
              "        const buttonEl =\n",
              "          document.querySelector('#df-3875f71b-7c74-45f2-a90a-a3523ffdfc12 button.colab-df-convert');\n",
              "        buttonEl.style.display =\n",
              "          google.colab.kernel.accessAllowed ? 'block' : 'none';\n",
              "\n",
              "        async function convertToInteractive(key) {\n",
              "          const element = document.querySelector('#df-3875f71b-7c74-45f2-a90a-a3523ffdfc12');\n",
              "          const dataTable =\n",
              "            await google.colab.kernel.invokeFunction('convertToInteractive',\n",
              "                                                     [key], {});\n",
              "          if (!dataTable) return;\n",
              "\n",
              "          const docLinkHtml = 'Like what you see? Visit the ' +\n",
              "            '<a target=\"_blank\" href=https://colab.research.google.com/notebooks/data_table.ipynb>data table notebook</a>'\n",
              "            + ' to learn more about interactive tables.';\n",
              "          element.innerHTML = '';\n",
              "          dataTable['output_type'] = 'display_data';\n",
              "          await google.colab.output.renderOutput(dataTable, element);\n",
              "          const docLink = document.createElement('div');\n",
              "          docLink.innerHTML = docLinkHtml;\n",
              "          element.appendChild(docLink);\n",
              "        }\n",
              "      </script>\n",
              "    </div>\n",
              "  </div>\n",
              "  "
            ]
          },
          "metadata": {},
          "execution_count": 3
        }
      ]
    },
    {
      "cell_type": "code",
      "source": [
        "path='/content/drive/MyDrive/CNN_Detection/respiratory_sound_dataset/respiratory_sound_database/Respiratory_Sound_Database/audio_and_txt_files/'\n",
        "path\n",
        "files=[s.split('.')[0] for s in os.listdir(path) if '.txt' in s]\n",
        "files[:5]"
      ],
      "metadata": {
        "colab": {
          "base_uri": "https://localhost:8080/"
        },
        "id": "1QK_Sb3hQZ-G",
        "outputId": "2f9f0ea6-8dd4-4550-ff37-6ce2b228c975"
      },
      "execution_count": 4,
      "outputs": [
        {
          "output_type": "execute_result",
          "data": {
            "text/plain": [
              "['151_2p4_Lr_mc_AKGC417L',\n",
              " '151_2p4_Ar_mc_AKGC417L',\n",
              " '151_2p4_Al_mc_AKGC417L',\n",
              " '151_2p4_Ll_mc_AKGC417L',\n",
              " '151_2p3_Tc_mc_AKGC417L']"
            ]
          },
          "metadata": {},
          "execution_count": 4
        }
      ]
    },
    {
      "cell_type": "code",
      "source": [
        "def getFilenameInfo(file):\n",
        "    return file.split('_')"
      ],
      "metadata": {
        "id": "ODRp6HHyQ1br"
      },
      "execution_count": 5,
      "outputs": []
    },
    {
      "cell_type": "code",
      "source": [
        "def extractId(filename):\n",
        "    return filename.split('_')[0]"
      ],
      "metadata": {
        "id": "dN8LE_2WwmxB"
      },
      "execution_count": 6,
      "outputs": []
    },
    {
      "cell_type": "code",
      "source": [
        "path='/content/drive/MyDrive/processed_audio_files'\n",
        "length=len(os.listdir(path))\n",
        "index=range(length)\n",
        "i=0\n",
        "files_df=pd.DataFrame(index=index,columns=['pid','filename'])\n",
        "for f in os.listdir(path):\n",
        "    files_df.iloc[i]['pid']=extractId(f)\n",
        "    files_df.iloc[i]['filename']=f\n",
        "    i+=1\n",
        "files_df.head()"
      ],
      "metadata": {
        "colab": {
          "base_uri": "https://localhost:8080/",
          "height": 206
        },
        "id": "bb7RAySFwoSu",
        "outputId": "e9ea42c1-e847-448b-ba87-9e4d5f5634f4"
      },
      "execution_count": 7,
      "outputs": [
        {
          "output_type": "execute_result",
          "data": {
            "text/plain": [
              "   pid                      filename\n",
              "0  130  130_3p4_Al_mc_AKGC417L_2.wav\n",
              "1  130  130_3p4_Al_mc_AKGC417L_3.wav\n",
              "2  130  130_3p4_Al_mc_AKGC417L_4.wav\n",
              "3  130  130_3p4_Al_mc_AKGC417L_5.wav\n",
              "4  130  130_3p4_Al_mc_AKGC417L_6.wav"
            ],
            "text/html": [
              "\n",
              "  <div id=\"df-c4bef8ff-2b11-479d-a25b-b453635464c1\">\n",
              "    <div class=\"colab-df-container\">\n",
              "      <div>\n",
              "<style scoped>\n",
              "    .dataframe tbody tr th:only-of-type {\n",
              "        vertical-align: middle;\n",
              "    }\n",
              "\n",
              "    .dataframe tbody tr th {\n",
              "        vertical-align: top;\n",
              "    }\n",
              "\n",
              "    .dataframe thead th {\n",
              "        text-align: right;\n",
              "    }\n",
              "</style>\n",
              "<table border=\"1\" class=\"dataframe\">\n",
              "  <thead>\n",
              "    <tr style=\"text-align: right;\">\n",
              "      <th></th>\n",
              "      <th>pid</th>\n",
              "      <th>filename</th>\n",
              "    </tr>\n",
              "  </thead>\n",
              "  <tbody>\n",
              "    <tr>\n",
              "      <th>0</th>\n",
              "      <td>130</td>\n",
              "      <td>130_3p4_Al_mc_AKGC417L_2.wav</td>\n",
              "    </tr>\n",
              "    <tr>\n",
              "      <th>1</th>\n",
              "      <td>130</td>\n",
              "      <td>130_3p4_Al_mc_AKGC417L_3.wav</td>\n",
              "    </tr>\n",
              "    <tr>\n",
              "      <th>2</th>\n",
              "      <td>130</td>\n",
              "      <td>130_3p4_Al_mc_AKGC417L_4.wav</td>\n",
              "    </tr>\n",
              "    <tr>\n",
              "      <th>3</th>\n",
              "      <td>130</td>\n",
              "      <td>130_3p4_Al_mc_AKGC417L_5.wav</td>\n",
              "    </tr>\n",
              "    <tr>\n",
              "      <th>4</th>\n",
              "      <td>130</td>\n",
              "      <td>130_3p4_Al_mc_AKGC417L_6.wav</td>\n",
              "    </tr>\n",
              "  </tbody>\n",
              "</table>\n",
              "</div>\n",
              "      <button class=\"colab-df-convert\" onclick=\"convertToInteractive('df-c4bef8ff-2b11-479d-a25b-b453635464c1')\"\n",
              "              title=\"Convert this dataframe to an interactive table.\"\n",
              "              style=\"display:none;\">\n",
              "        \n",
              "  <svg xmlns=\"http://www.w3.org/2000/svg\" height=\"24px\"viewBox=\"0 0 24 24\"\n",
              "       width=\"24px\">\n",
              "    <path d=\"M0 0h24v24H0V0z\" fill=\"none\"/>\n",
              "    <path d=\"M18.56 5.44l.94 2.06.94-2.06 2.06-.94-2.06-.94-.94-2.06-.94 2.06-2.06.94zm-11 1L8.5 8.5l.94-2.06 2.06-.94-2.06-.94L8.5 2.5l-.94 2.06-2.06.94zm10 10l.94 2.06.94-2.06 2.06-.94-2.06-.94-.94-2.06-.94 2.06-2.06.94z\"/><path d=\"M17.41 7.96l-1.37-1.37c-.4-.4-.92-.59-1.43-.59-.52 0-1.04.2-1.43.59L10.3 9.45l-7.72 7.72c-.78.78-.78 2.05 0 2.83L4 21.41c.39.39.9.59 1.41.59.51 0 1.02-.2 1.41-.59l7.78-7.78 2.81-2.81c.8-.78.8-2.07 0-2.86zM5.41 20L4 18.59l7.72-7.72 1.47 1.35L5.41 20z\"/>\n",
              "  </svg>\n",
              "      </button>\n",
              "      \n",
              "  <style>\n",
              "    .colab-df-container {\n",
              "      display:flex;\n",
              "      flex-wrap:wrap;\n",
              "      gap: 12px;\n",
              "    }\n",
              "\n",
              "    .colab-df-convert {\n",
              "      background-color: #E8F0FE;\n",
              "      border: none;\n",
              "      border-radius: 50%;\n",
              "      cursor: pointer;\n",
              "      display: none;\n",
              "      fill: #1967D2;\n",
              "      height: 32px;\n",
              "      padding: 0 0 0 0;\n",
              "      width: 32px;\n",
              "    }\n",
              "\n",
              "    .colab-df-convert:hover {\n",
              "      background-color: #E2EBFA;\n",
              "      box-shadow: 0px 1px 2px rgba(60, 64, 67, 0.3), 0px 1px 3px 1px rgba(60, 64, 67, 0.15);\n",
              "      fill: #174EA6;\n",
              "    }\n",
              "\n",
              "    [theme=dark] .colab-df-convert {\n",
              "      background-color: #3B4455;\n",
              "      fill: #D2E3FC;\n",
              "    }\n",
              "\n",
              "    [theme=dark] .colab-df-convert:hover {\n",
              "      background-color: #434B5C;\n",
              "      box-shadow: 0px 1px 3px 1px rgba(0, 0, 0, 0.15);\n",
              "      filter: drop-shadow(0px 1px 2px rgba(0, 0, 0, 0.3));\n",
              "      fill: #FFFFFF;\n",
              "    }\n",
              "  </style>\n",
              "\n",
              "      <script>\n",
              "        const buttonEl =\n",
              "          document.querySelector('#df-c4bef8ff-2b11-479d-a25b-b453635464c1 button.colab-df-convert');\n",
              "        buttonEl.style.display =\n",
              "          google.colab.kernel.accessAllowed ? 'block' : 'none';\n",
              "\n",
              "        async function convertToInteractive(key) {\n",
              "          const element = document.querySelector('#df-c4bef8ff-2b11-479d-a25b-b453635464c1');\n",
              "          const dataTable =\n",
              "            await google.colab.kernel.invokeFunction('convertToInteractive',\n",
              "                                                     [key], {});\n",
              "          if (!dataTable) return;\n",
              "\n",
              "          const docLinkHtml = 'Like what you see? Visit the ' +\n",
              "            '<a target=\"_blank\" href=https://colab.research.google.com/notebooks/data_table.ipynb>data table notebook</a>'\n",
              "            + ' to learn more about interactive tables.';\n",
              "          element.innerHTML = '';\n",
              "          dataTable['output_type'] = 'display_data';\n",
              "          await google.colab.output.renderOutput(dataTable, element);\n",
              "          const docLink = document.createElement('div');\n",
              "          docLink.innerHTML = docLinkHtml;\n",
              "          element.appendChild(docLink);\n",
              "        }\n",
              "      </script>\n",
              "    </div>\n",
              "  </div>\n",
              "  "
            ]
          },
          "metadata": {},
          "execution_count": 7
        }
      ]
    },
    {
      "cell_type": "code",
      "source": [
        "files_df.pid=files_df.pid.astype('int64')\n",
        "data=pd.merge(files_df,patient_data,on='pid')\n",
        "data.head()\n",
        "print(type(data))"
      ],
      "metadata": {
        "colab": {
          "base_uri": "https://localhost:8080/"
        },
        "id": "cnMIkJfxw5I4",
        "outputId": "fb704d64-6a3c-4a14-d681-a79eebb958ce"
      },
      "execution_count": 8,
      "outputs": [
        {
          "output_type": "stream",
          "name": "stdout",
          "text": [
            "<class 'pandas.core.frame.DataFrame'>\n"
          ]
        }
      ]
    },
    {
      "cell_type": "code",
      "source": [
        "from sklearn.model_selection import train_test_split\n",
        "Xtrain,Xval,ytrain,yval=train_test_split(data,data.disease,stratify=data.disease,random_state=42,test_size=0.25)"
      ],
      "metadata": {
        "id": "v5BYpyQ8sK0u"
      },
      "execution_count": 9,
      "outputs": []
    },
    {
      "cell_type": "code",
      "source": [
        "Xtrain.disease.value_counts()/Xtrain.shape[0]"
      ],
      "metadata": {
        "colab": {
          "base_uri": "https://localhost:8080/"
        },
        "id": "2aC2kVvluTh4",
        "outputId": "324e9420-12b8-45e8-d9d9-6a224d573c24"
      },
      "execution_count": 10,
      "outputs": [
        {
          "output_type": "execute_result",
          "data": {
            "text/plain": [
              "COPD              0.840159\n",
              "Healthy           0.042712\n",
              "Pneumonia         0.037649\n",
              "URTI              0.035007\n",
              "Bronchiolitis     0.022897\n",
              "Bronchiectasis    0.015412\n",
              "LRTI              0.005284\n",
              "Asthma            0.000881\n",
              "Name: disease, dtype: float64"
            ]
          },
          "metadata": {},
          "execution_count": 10
        }
      ]
    },
    {
      "cell_type": "code",
      "source": [
        "Xval.disease.value_counts()/Xval.shape[0]"
      ],
      "metadata": {
        "colab": {
          "base_uri": "https://localhost:8080/"
        },
        "id": "Qnr1o_Rwubdj",
        "outputId": "8de87458-0434-4a6d-c940-8340ed32b52f"
      },
      "execution_count": 11,
      "outputs": [
        {
          "output_type": "execute_result",
          "data": {
            "text/plain": [
              "COPD              0.840159\n",
              "Healthy           0.042933\n",
              "Pneumonia         0.037649\n",
              "URTI              0.035007\n",
              "Bronchiolitis     0.022457\n",
              "Bronchiectasis    0.015192\n",
              "LRTI              0.005284\n",
              "Asthma            0.001321\n",
              "Name: disease, dtype: float64"
            ]
          },
          "metadata": {},
          "execution_count": 11
        }
      ]
    },
    {
      "cell_type": "code",
      "source": [
        "train=pd.read_csv('/content/drive/MyDrive/csv_data/train.csv')\n",
        "val=pd.read_csv('/content/drive/MyDrive/csv_data/val.csv')\n",
        "train.head()"
      ],
      "metadata": {
        "colab": {
          "base_uri": "https://localhost:8080/",
          "height": 206
        },
        "id": "zoqk0taSyZjn",
        "outputId": "564d8540-7c86-4903-a8df-fc615f4e78e1"
      },
      "execution_count": 12,
      "outputs": [
        {
          "output_type": "execute_result",
          "data": {
            "text/plain": [
              "   Unnamed: 0  pid                      filename  disease\n",
              "0        3457  184  184_1b1_Ar_sc_Meditron_4.wav  Healthy\n",
              "1        4393  170  170_1b2_Al_mc_AKGC417L_1.wav     COPD\n",
              "2        2561  207  207_2b2_Pl_mc_AKGC417L_2.wav     COPD\n",
              "3        2178  203  203_1p2_Al_mc_AKGC417L_6.wav     COPD\n",
              "4        4762  174  174_1p3_Ar_mc_AKGC417L_2.wav     COPD"
            ],
            "text/html": [
              "\n",
              "  <div id=\"df-c565a6bb-1266-426e-94a0-bb57b6727eae\">\n",
              "    <div class=\"colab-df-container\">\n",
              "      <div>\n",
              "<style scoped>\n",
              "    .dataframe tbody tr th:only-of-type {\n",
              "        vertical-align: middle;\n",
              "    }\n",
              "\n",
              "    .dataframe tbody tr th {\n",
              "        vertical-align: top;\n",
              "    }\n",
              "\n",
              "    .dataframe thead th {\n",
              "        text-align: right;\n",
              "    }\n",
              "</style>\n",
              "<table border=\"1\" class=\"dataframe\">\n",
              "  <thead>\n",
              "    <tr style=\"text-align: right;\">\n",
              "      <th></th>\n",
              "      <th>Unnamed: 0</th>\n",
              "      <th>pid</th>\n",
              "      <th>filename</th>\n",
              "      <th>disease</th>\n",
              "    </tr>\n",
              "  </thead>\n",
              "  <tbody>\n",
              "    <tr>\n",
              "      <th>0</th>\n",
              "      <td>3457</td>\n",
              "      <td>184</td>\n",
              "      <td>184_1b1_Ar_sc_Meditron_4.wav</td>\n",
              "      <td>Healthy</td>\n",
              "    </tr>\n",
              "    <tr>\n",
              "      <th>1</th>\n",
              "      <td>4393</td>\n",
              "      <td>170</td>\n",
              "      <td>170_1b2_Al_mc_AKGC417L_1.wav</td>\n",
              "      <td>COPD</td>\n",
              "    </tr>\n",
              "    <tr>\n",
              "      <th>2</th>\n",
              "      <td>2561</td>\n",
              "      <td>207</td>\n",
              "      <td>207_2b2_Pl_mc_AKGC417L_2.wav</td>\n",
              "      <td>COPD</td>\n",
              "    </tr>\n",
              "    <tr>\n",
              "      <th>3</th>\n",
              "      <td>2178</td>\n",
              "      <td>203</td>\n",
              "      <td>203_1p2_Al_mc_AKGC417L_6.wav</td>\n",
              "      <td>COPD</td>\n",
              "    </tr>\n",
              "    <tr>\n",
              "      <th>4</th>\n",
              "      <td>4762</td>\n",
              "      <td>174</td>\n",
              "      <td>174_1p3_Ar_mc_AKGC417L_2.wav</td>\n",
              "      <td>COPD</td>\n",
              "    </tr>\n",
              "  </tbody>\n",
              "</table>\n",
              "</div>\n",
              "      <button class=\"colab-df-convert\" onclick=\"convertToInteractive('df-c565a6bb-1266-426e-94a0-bb57b6727eae')\"\n",
              "              title=\"Convert this dataframe to an interactive table.\"\n",
              "              style=\"display:none;\">\n",
              "        \n",
              "  <svg xmlns=\"http://www.w3.org/2000/svg\" height=\"24px\"viewBox=\"0 0 24 24\"\n",
              "       width=\"24px\">\n",
              "    <path d=\"M0 0h24v24H0V0z\" fill=\"none\"/>\n",
              "    <path d=\"M18.56 5.44l.94 2.06.94-2.06 2.06-.94-2.06-.94-.94-2.06-.94 2.06-2.06.94zm-11 1L8.5 8.5l.94-2.06 2.06-.94-2.06-.94L8.5 2.5l-.94 2.06-2.06.94zm10 10l.94 2.06.94-2.06 2.06-.94-2.06-.94-.94-2.06-.94 2.06-2.06.94z\"/><path d=\"M17.41 7.96l-1.37-1.37c-.4-.4-.92-.59-1.43-.59-.52 0-1.04.2-1.43.59L10.3 9.45l-7.72 7.72c-.78.78-.78 2.05 0 2.83L4 21.41c.39.39.9.59 1.41.59.51 0 1.02-.2 1.41-.59l7.78-7.78 2.81-2.81c.8-.78.8-2.07 0-2.86zM5.41 20L4 18.59l7.72-7.72 1.47 1.35L5.41 20z\"/>\n",
              "  </svg>\n",
              "      </button>\n",
              "      \n",
              "  <style>\n",
              "    .colab-df-container {\n",
              "      display:flex;\n",
              "      flex-wrap:wrap;\n",
              "      gap: 12px;\n",
              "    }\n",
              "\n",
              "    .colab-df-convert {\n",
              "      background-color: #E8F0FE;\n",
              "      border: none;\n",
              "      border-radius: 50%;\n",
              "      cursor: pointer;\n",
              "      display: none;\n",
              "      fill: #1967D2;\n",
              "      height: 32px;\n",
              "      padding: 0 0 0 0;\n",
              "      width: 32px;\n",
              "    }\n",
              "\n",
              "    .colab-df-convert:hover {\n",
              "      background-color: #E2EBFA;\n",
              "      box-shadow: 0px 1px 2px rgba(60, 64, 67, 0.3), 0px 1px 3px 1px rgba(60, 64, 67, 0.15);\n",
              "      fill: #174EA6;\n",
              "    }\n",
              "\n",
              "    [theme=dark] .colab-df-convert {\n",
              "      background-color: #3B4455;\n",
              "      fill: #D2E3FC;\n",
              "    }\n",
              "\n",
              "    [theme=dark] .colab-df-convert:hover {\n",
              "      background-color: #434B5C;\n",
              "      box-shadow: 0px 1px 3px 1px rgba(0, 0, 0, 0.15);\n",
              "      filter: drop-shadow(0px 1px 2px rgba(0, 0, 0, 0.3));\n",
              "      fill: #FFFFFF;\n",
              "    }\n",
              "  </style>\n",
              "\n",
              "      <script>\n",
              "        const buttonEl =\n",
              "          document.querySelector('#df-c565a6bb-1266-426e-94a0-bb57b6727eae button.colab-df-convert');\n",
              "        buttonEl.style.display =\n",
              "          google.colab.kernel.accessAllowed ? 'block' : 'none';\n",
              "\n",
              "        async function convertToInteractive(key) {\n",
              "          const element = document.querySelector('#df-c565a6bb-1266-426e-94a0-bb57b6727eae');\n",
              "          const dataTable =\n",
              "            await google.colab.kernel.invokeFunction('convertToInteractive',\n",
              "                                                     [key], {});\n",
              "          if (!dataTable) return;\n",
              "\n",
              "          const docLinkHtml = 'Like what you see? Visit the ' +\n",
              "            '<a target=\"_blank\" href=https://colab.research.google.com/notebooks/data_table.ipynb>data table notebook</a>'\n",
              "            + ' to learn more about interactive tables.';\n",
              "          element.innerHTML = '';\n",
              "          dataTable['output_type'] = 'display_data';\n",
              "          await google.colab.output.renderOutput(dataTable, element);\n",
              "          const docLink = document.createElement('div');\n",
              "          docLink.innerHTML = docLinkHtml;\n",
              "          element.appendChild(docLink);\n",
              "        }\n",
              "      </script>\n",
              "    </div>\n",
              "  </div>\n",
              "  "
            ]
          },
          "metadata": {},
          "execution_count": 12
        }
      ]
    },
    {
      "cell_type": "code",
      "source": [
        "ytrain=train.disease\n",
        "yval=val.disease\n",
        "yval"
      ],
      "metadata": {
        "colab": {
          "base_uri": "https://localhost:8080/"
        },
        "id": "f4-w3irkymte",
        "outputId": "304e02ba-765c-4315-da5a-2661bc5198d0"
      },
      "execution_count": 13,
      "outputs": [
        {
          "output_type": "execute_result",
          "data": {
            "text/plain": [
              "0       COPD\n",
              "1       COPD\n",
              "2       COPD\n",
              "3       COPD\n",
              "4       COPD\n",
              "        ... \n",
              "1509    COPD\n",
              "1510    COPD\n",
              "1511    COPD\n",
              "1512    COPD\n",
              "1513    COPD\n",
              "Name: disease, Length: 1514, dtype: object"
            ]
          },
          "metadata": {},
          "execution_count": 13
        }
      ]
    },
    {
      "cell_type": "code",
      "source": [
        "from sklearn.preprocessing import LabelEncoder\n",
        "le=LabelEncoder()\n",
        "ytrain=le.fit_transform(ytrain)\n",
        "yval=le.transform(yval)"
      ],
      "metadata": {
        "id": "JuPThEPdypkX"
      },
      "execution_count": 14,
      "outputs": []
    },
    {
      "cell_type": "code",
      "source": [
        "def getFeatures(path):\n",
        "    soundArr,sample_rate=lb.load(path)\n",
        "    mfcc=lb.feature.mfcc(y=soundArr,sr=sample_rate)\n",
        "    cstft=lb.feature.chroma_stft(y=soundArr,sr=sample_rate)\n",
        "    mSpec=lb.feature.melspectrogram(y=soundArr,sr=sample_rate)\n",
        "    rms=lb.feature.rms(y=soundArr)\n",
        "    return mfcc,cstft,mSpec,rms"
      ],
      "metadata": {
        "id": "l-R8cviqyssj"
      },
      "execution_count": 15,
      "outputs": []
    },
    {
      "cell_type": "code",
      "source": [],
      "metadata": {
        "id": "2hPSLO3ohcjF"
      },
      "execution_count": null,
      "outputs": []
    },
    {
      "cell_type": "code",
      "source": [
        "root='/content/drive/MyDrive/processed_audio_files/'\n",
        "mfcc,cstft,mSpec,rms=[],[],[],[]\n",
        "\n",
        "for idx,row in val.iterrows():\n",
        "    path=root + row['filename']\n",
        "    a,b,c,d=getFeatures(path)\n",
        "    mfcc.append(a)\n",
        "    cstft.append(b)\n",
        "    mSpec.append(c)\n",
        "    rms.append(d)\n",
        "    \n",
        "mfcc_val=np.array(mfcc)\n",
        "cstft_val=np.array(cstft)\n",
        "mSpec_val=np.array(mSpec)\n",
        "rms_val=np.array(rms)"
      ],
      "metadata": {
        "colab": {
          "base_uri": "https://localhost:8080/"
        },
        "id": "2nmwf3E4yvwj",
        "outputId": "c3c15988-0084-42b8-d12c-c4b45353d631"
      },
      "execution_count": 16,
      "outputs": [
        {
          "output_type": "stream",
          "name": "stderr",
          "text": [
            "/usr/local/lib/python3.8/dist-packages/librosa/core/pitch.py:153: UserWarning: Trying to estimate tuning from empty frequency set.\n",
            "  warnings.warn(\"Trying to estimate tuning from empty frequency set.\")\n"
          ]
        }
      ]
    },
    {
      "cell_type": "code",
      "source": [
        "root='/content/drive/MyDrive/processed_audio_files/'\n",
        "mfcc,cstft,mSpec,rms=[],[],[],[]\n",
        "\n",
        "for idx,row in train.iterrows():\n",
        "    path=root + row['filename']\n",
        "    a,b,c,d=getFeatures(path)\n",
        "    mfcc.append(a)\n",
        "    cstft.append(b)\n",
        "    mSpec.append(c)\n",
        "    rms.append(d)\n",
        "    \n",
        "mfcc_train=np.array(mfcc)\n",
        "cstft_train=np.array(cstft)\n",
        "mSpec_train=np.array(mSpec)\n",
        "rms_train=np.array(rms)"
      ],
      "metadata": {
        "id": "t3WENPJKz4cS"
      },
      "execution_count": 17,
      "outputs": []
    },
    {
      "cell_type": "code",
      "source": [
        "from tensorflow.keras.layers import Dense, Conv2D, Flatten, Activation, MaxPooling2D, Dropout,Reshape,Multiply\n",
        "from tensorflow.keras.callbacks import ModelCheckpoint, EarlyStopping"
      ],
      "metadata": {
        "id": "mAfrfWXqUGYE"
      },
      "execution_count": 18,
      "outputs": []
    },
    {
      "cell_type": "code",
      "source": [
        "def squeeze_excite_block(inputs, ratio=16):\n",
        "    init = inputs       ## (b, 128, 128, 32)\n",
        "    channel_axis = -1\n",
        "    filters = init.shape[channel_axis]\n",
        "    se_shape = (1, 1, filters)\n",
        "\n",
        "    se = tf.keras.layers.GlobalMaxPool2D()(init)     ## (b, 32)   -> (b, 1, 1, 32)\n",
        "    se = Reshape(se_shape)(se)\n",
        "    se = Dense(filters//ratio, activation=\"relu\", use_bias=False)(se)\n",
        "    se = Dense(filters, activation=\"sigmoid\", use_bias=False)(se)\n",
        "\n",
        "    x = Multiply()([inputs, se])\n",
        "    return x"
      ],
      "metadata": {
        "id": "g1WnpSYHTt7U"
      },
      "execution_count": 19,
      "outputs": []
    },
    {
      "cell_type": "code",
      "source": [
        "checkpoint=ModelCheckpoint(r'mfcc_eval',\n",
        "                          monitor='val_loss',\n",
        "                          mode='min',\n",
        "                          save_best_only=True,\n",
        "                          save_weights_only=True,\n",
        "                          verbose=1)\n",
        "earlystop=EarlyStopping(monitor='val_loss',\n",
        "                       min_delta=0.001,\n",
        "                       patience=10,\n",
        "                       verbose=1,\n",
        "                       restore_best_weights=True)\n",
        "my_callbacks=[checkpoint,earlystop]"
      ],
      "metadata": {
        "id": "sbP5kGuu1vLJ"
      },
      "execution_count": 20,
      "outputs": []
    },
    {
      "cell_type": "code",
      "source": [
        "mfcc_input=keras.layers.Input(shape=(20,259,1),name=\"mfccInput\")\n",
        "x=keras.layers.Conv2D(32,5,strides=(1,3),padding='same')(mfcc_input)\n",
        "x = squeeze_excite_block(x)\n",
        "x=keras.layers.BatchNormalization()(x)\n",
        "x=keras.layers.Activation(keras.activations.relu)(x)\n",
        "x=keras.layers.MaxPooling2D(pool_size=2,padding='valid')(x)\n",
        "\n",
        "x=keras.layers.Conv2D(64,3,strides=(1,2),padding='same')(x)\n",
        "x = squeeze_excite_block(x)\n",
        "x=keras.layers.BatchNormalization()(x)\n",
        "x=keras.layers.Activation(keras.activations.relu)(x)\n",
        "x=keras.layers.MaxPooling2D(pool_size=2,padding='valid')(x)\n",
        "\n",
        "x=keras.layers.Conv2D(96,2,padding='same')(x)\n",
        "x = squeeze_excite_block(x)\n",
        "x=keras.layers.BatchNormalization()(x)\n",
        "x=keras.layers.Activation(keras.activations.relu)(x)\n",
        "x=keras.layers.MaxPooling2D(pool_size=2,padding='valid')(x)\n",
        "\n",
        "x=keras.layers.Conv2D(128,2,padding='same')(x)\n",
        "x = squeeze_excite_block(x)\n",
        "x=keras.layers.BatchNormalization()(x)\n",
        "x=keras.layers.Activation(keras.activations.relu)(x)\n",
        "mfcc_output=keras.layers.GlobalMaxPooling2D()(x)\n",
        "\n",
        "mfcc_model=keras.Model(mfcc_input, mfcc_output, name=\"mfccModel\")"
      ],
      "metadata": {
        "id": "c3ldVU3A1z49"
      },
      "execution_count": 38,
      "outputs": []
    },
    {
      "cell_type": "code",
      "source": [
        "mfcc_model.summary()"
      ],
      "metadata": {
        "colab": {
          "base_uri": "https://localhost:8080/"
        },
        "id": "YkBREnHB18bP",
        "outputId": "17271643-f514-44e4-91d8-7ed9471d1fdc"
      },
      "execution_count": 39,
      "outputs": [
        {
          "output_type": "stream",
          "name": "stdout",
          "text": [
            "Model: \"mfccModel\"\n",
            "__________________________________________________________________________________________________\n",
            " Layer (type)                   Output Shape         Param #     Connected to                     \n",
            "==================================================================================================\n",
            " mfccInput (InputLayer)         [(None, 20, 259, 1)  0           []                               \n",
            "                                ]                                                                 \n",
            "                                                                                                  \n",
            " conv2d_15 (Conv2D)             (None, 20, 87, 32)   832         ['mfccInput[0][0]']              \n",
            "                                                                                                  \n",
            " global_max_pooling2d_6 (Global  (None, 32)          0           ['conv2d_15[0][0]']              \n",
            " MaxPooling2D)                                                                                    \n",
            "                                                                                                  \n",
            " reshape_1 (Reshape)            (None, 1, 1, 32)     0           ['global_max_pooling2d_6[0][0]'] \n",
            "                                                                                                  \n",
            " dense_8 (Dense)                (None, 1, 1, 2)      64          ['reshape_1[0][0]']              \n",
            "                                                                                                  \n",
            " dense_9 (Dense)                (None, 1, 1, 32)     64          ['dense_8[0][0]']                \n",
            "                                                                                                  \n",
            " multiply_1 (Multiply)          (None, 20, 87, 32)   0           ['conv2d_15[0][0]',              \n",
            "                                                                  'dense_9[0][0]']                \n",
            "                                                                                                  \n",
            " batch_normalization_14 (BatchN  (None, 20, 87, 32)  128         ['multiply_1[0][0]']             \n",
            " ormalization)                                                                                    \n",
            "                                                                                                  \n",
            " activation_15 (Activation)     (None, 20, 87, 32)   0           ['batch_normalization_14[0][0]'] \n",
            "                                                                                                  \n",
            " max_pooling2d_8 (MaxPooling2D)  (None, 10, 43, 32)  0           ['activation_15[0][0]']          \n",
            "                                                                                                  \n",
            " conv2d_16 (Conv2D)             (None, 10, 22, 64)   18496       ['max_pooling2d_8[0][0]']        \n",
            "                                                                                                  \n",
            " global_max_pooling2d_7 (Global  (None, 64)          0           ['conv2d_16[0][0]']              \n",
            " MaxPooling2D)                                                                                    \n",
            "                                                                                                  \n",
            " reshape_2 (Reshape)            (None, 1, 1, 64)     0           ['global_max_pooling2d_7[0][0]'] \n",
            "                                                                                                  \n",
            " dense_10 (Dense)               (None, 1, 1, 4)      256         ['reshape_2[0][0]']              \n",
            "                                                                                                  \n",
            " dense_11 (Dense)               (None, 1, 1, 64)     256         ['dense_10[0][0]']               \n",
            "                                                                                                  \n",
            " multiply_2 (Multiply)          (None, 10, 22, 64)   0           ['conv2d_16[0][0]',              \n",
            "                                                                  'dense_11[0][0]']               \n",
            "                                                                                                  \n",
            " batch_normalization_15 (BatchN  (None, 10, 22, 64)  256         ['multiply_2[0][0]']             \n",
            " ormalization)                                                                                    \n",
            "                                                                                                  \n",
            " activation_16 (Activation)     (None, 10, 22, 64)   0           ['batch_normalization_15[0][0]'] \n",
            "                                                                                                  \n",
            " max_pooling2d_9 (MaxPooling2D)  (None, 5, 11, 64)   0           ['activation_16[0][0]']          \n",
            "                                                                                                  \n",
            " conv2d_17 (Conv2D)             (None, 5, 11, 96)    24672       ['max_pooling2d_9[0][0]']        \n",
            "                                                                                                  \n",
            " global_max_pooling2d_8 (Global  (None, 96)          0           ['conv2d_17[0][0]']              \n",
            " MaxPooling2D)                                                                                    \n",
            "                                                                                                  \n",
            " reshape_3 (Reshape)            (None, 1, 1, 96)     0           ['global_max_pooling2d_8[0][0]'] \n",
            "                                                                                                  \n",
            " dense_12 (Dense)               (None, 1, 1, 6)      576         ['reshape_3[0][0]']              \n",
            "                                                                                                  \n",
            " dense_13 (Dense)               (None, 1, 1, 96)     576         ['dense_12[0][0]']               \n",
            "                                                                                                  \n",
            " multiply_3 (Multiply)          (None, 5, 11, 96)    0           ['conv2d_17[0][0]',              \n",
            "                                                                  'dense_13[0][0]']               \n",
            "                                                                                                  \n",
            " batch_normalization_16 (BatchN  (None, 5, 11, 96)   384         ['multiply_3[0][0]']             \n",
            " ormalization)                                                                                    \n",
            "                                                                                                  \n",
            " activation_17 (Activation)     (None, 5, 11, 96)    0           ['batch_normalization_16[0][0]'] \n",
            "                                                                                                  \n",
            " max_pooling2d_10 (MaxPooling2D  (None, 2, 5, 96)    0           ['activation_17[0][0]']          \n",
            " )                                                                                                \n",
            "                                                                                                  \n",
            " conv2d_18 (Conv2D)             (None, 2, 5, 128)    49280       ['max_pooling2d_10[0][0]']       \n",
            "                                                                                                  \n",
            " global_max_pooling2d_9 (Global  (None, 128)         0           ['conv2d_18[0][0]']              \n",
            " MaxPooling2D)                                                                                    \n",
            "                                                                                                  \n",
            " reshape_4 (Reshape)            (None, 1, 1, 128)    0           ['global_max_pooling2d_9[0][0]'] \n",
            "                                                                                                  \n",
            " dense_14 (Dense)               (None, 1, 1, 8)      1024        ['reshape_4[0][0]']              \n",
            "                                                                                                  \n",
            " dense_15 (Dense)               (None, 1, 1, 128)    1024        ['dense_14[0][0]']               \n",
            "                                                                                                  \n",
            " multiply_4 (Multiply)          (None, 2, 5, 128)    0           ['conv2d_18[0][0]',              \n",
            "                                                                  'dense_15[0][0]']               \n",
            "                                                                                                  \n",
            " batch_normalization_17 (BatchN  (None, 2, 5, 128)   512         ['multiply_4[0][0]']             \n",
            " ormalization)                                                                                    \n",
            "                                                                                                  \n",
            " activation_18 (Activation)     (None, 2, 5, 128)    0           ['batch_normalization_17[0][0]'] \n",
            "                                                                                                  \n",
            " global_max_pooling2d_10 (Globa  (None, 128)         0           ['activation_18[0][0]']          \n",
            " lMaxPooling2D)                                                                                   \n",
            "                                                                                                  \n",
            "==================================================================================================\n",
            "Total params: 98,400\n",
            "Trainable params: 97,760\n",
            "Non-trainable params: 640\n",
            "__________________________________________________________________________________________________\n"
          ]
        }
      ]
    },
    {
      "cell_type": "code",
      "source": [
        "croma_input=keras.layers.Input(shape=(12,259,1),name=\"cromaInput\")\n",
        "x=keras.layers.Conv2D(32,5,strides=(1,3),padding='same')(croma_input)\n",
        "x = squeeze_excite_block(x)\n",
        "x=keras.layers.BatchNormalization()(x)\n",
        "x=keras.layers.Activation(keras.activations.relu)(x)\n",
        "x=keras.layers.MaxPooling2D(pool_size=2,padding='valid')(x)\n",
        "\n",
        "x=keras.layers.Conv2D(64,3,strides=(1,2),padding='same')(x)\n",
        "x = squeeze_excite_block(x)\n",
        "x=keras.layers.BatchNormalization()(x)\n",
        "x=keras.layers.Activation(keras.activations.relu)(x)\n",
        "x=keras.layers.MaxPooling2D(pool_size=2,padding='valid')(x)\n",
        "\n",
        "x=keras.layers.Conv2D(128,2,padding='same')(x)\n",
        "x = squeeze_excite_block(x)\n",
        "x=keras.layers.BatchNormalization()(x)\n",
        "x=keras.layers.Activation(keras.activations.relu)(x)\n",
        "croma_output=keras.layers.GlobalMaxPooling2D()(x)\n",
        "\n",
        "croma_model=keras.Model(croma_input, croma_output, name=\"cromaModel\")"
      ],
      "metadata": {
        "id": "CsE2qWbN1_8V"
      },
      "execution_count": 40,
      "outputs": []
    },
    {
      "cell_type": "code",
      "source": [
        "croma_model.summary()"
      ],
      "metadata": {
        "colab": {
          "base_uri": "https://localhost:8080/"
        },
        "id": "tWByNoSD2EjI",
        "outputId": "3ee3a2b4-7712-47cc-ce31-26c2ee39966e"
      },
      "execution_count": 41,
      "outputs": [
        {
          "output_type": "stream",
          "name": "stdout",
          "text": [
            "Model: \"cromaModel\"\n",
            "__________________________________________________________________________________________________\n",
            " Layer (type)                   Output Shape         Param #     Connected to                     \n",
            "==================================================================================================\n",
            " cromaInput (InputLayer)        [(None, 12, 259, 1)  0           []                               \n",
            "                                ]                                                                 \n",
            "                                                                                                  \n",
            " conv2d_19 (Conv2D)             (None, 12, 87, 32)   832         ['cromaInput[0][0]']             \n",
            "                                                                                                  \n",
            " global_max_pooling2d_11 (Globa  (None, 32)          0           ['conv2d_19[0][0]']              \n",
            " lMaxPooling2D)                                                                                   \n",
            "                                                                                                  \n",
            " reshape_5 (Reshape)            (None, 1, 1, 32)     0           ['global_max_pooling2d_11[0][0]']\n",
            "                                                                                                  \n",
            " dense_16 (Dense)               (None, 1, 1, 2)      64          ['reshape_5[0][0]']              \n",
            "                                                                                                  \n",
            " dense_17 (Dense)               (None, 1, 1, 32)     64          ['dense_16[0][0]']               \n",
            "                                                                                                  \n",
            " multiply_5 (Multiply)          (None, 12, 87, 32)   0           ['conv2d_19[0][0]',              \n",
            "                                                                  'dense_17[0][0]']               \n",
            "                                                                                                  \n",
            " batch_normalization_18 (BatchN  (None, 12, 87, 32)  128         ['multiply_5[0][0]']             \n",
            " ormalization)                                                                                    \n",
            "                                                                                                  \n",
            " activation_19 (Activation)     (None, 12, 87, 32)   0           ['batch_normalization_18[0][0]'] \n",
            "                                                                                                  \n",
            " max_pooling2d_11 (MaxPooling2D  (None, 6, 43, 32)   0           ['activation_19[0][0]']          \n",
            " )                                                                                                \n",
            "                                                                                                  \n",
            " conv2d_20 (Conv2D)             (None, 6, 22, 64)    18496       ['max_pooling2d_11[0][0]']       \n",
            "                                                                                                  \n",
            " global_max_pooling2d_12 (Globa  (None, 64)          0           ['conv2d_20[0][0]']              \n",
            " lMaxPooling2D)                                                                                   \n",
            "                                                                                                  \n",
            " reshape_6 (Reshape)            (None, 1, 1, 64)     0           ['global_max_pooling2d_12[0][0]']\n",
            "                                                                                                  \n",
            " dense_18 (Dense)               (None, 1, 1, 4)      256         ['reshape_6[0][0]']              \n",
            "                                                                                                  \n",
            " dense_19 (Dense)               (None, 1, 1, 64)     256         ['dense_18[0][0]']               \n",
            "                                                                                                  \n",
            " multiply_6 (Multiply)          (None, 6, 22, 64)    0           ['conv2d_20[0][0]',              \n",
            "                                                                  'dense_19[0][0]']               \n",
            "                                                                                                  \n",
            " batch_normalization_19 (BatchN  (None, 6, 22, 64)   256         ['multiply_6[0][0]']             \n",
            " ormalization)                                                                                    \n",
            "                                                                                                  \n",
            " activation_20 (Activation)     (None, 6, 22, 64)    0           ['batch_normalization_19[0][0]'] \n",
            "                                                                                                  \n",
            " max_pooling2d_12 (MaxPooling2D  (None, 3, 11, 64)   0           ['activation_20[0][0]']          \n",
            " )                                                                                                \n",
            "                                                                                                  \n",
            " conv2d_21 (Conv2D)             (None, 3, 11, 128)   32896       ['max_pooling2d_12[0][0]']       \n",
            "                                                                                                  \n",
            " global_max_pooling2d_13 (Globa  (None, 128)         0           ['conv2d_21[0][0]']              \n",
            " lMaxPooling2D)                                                                                   \n",
            "                                                                                                  \n",
            " reshape_7 (Reshape)            (None, 1, 1, 128)    0           ['global_max_pooling2d_13[0][0]']\n",
            "                                                                                                  \n",
            " dense_20 (Dense)               (None, 1, 1, 8)      1024        ['reshape_7[0][0]']              \n",
            "                                                                                                  \n",
            " dense_21 (Dense)               (None, 1, 1, 128)    1024        ['dense_20[0][0]']               \n",
            "                                                                                                  \n",
            " multiply_7 (Multiply)          (None, 3, 11, 128)   0           ['conv2d_21[0][0]',              \n",
            "                                                                  'dense_21[0][0]']               \n",
            "                                                                                                  \n",
            " batch_normalization_20 (BatchN  (None, 3, 11, 128)  512         ['multiply_7[0][0]']             \n",
            " ormalization)                                                                                    \n",
            "                                                                                                  \n",
            " activation_21 (Activation)     (None, 3, 11, 128)   0           ['batch_normalization_20[0][0]'] \n",
            "                                                                                                  \n",
            " global_max_pooling2d_14 (Globa  (None, 128)         0           ['activation_21[0][0]']          \n",
            " lMaxPooling2D)                                                                                   \n",
            "                                                                                                  \n",
            "==================================================================================================\n",
            "Total params: 55,808\n",
            "Trainable params: 55,360\n",
            "Non-trainable params: 448\n",
            "__________________________________________________________________________________________________\n"
          ]
        }
      ]
    },
    {
      "cell_type": "code",
      "source": [
        "mSpec_input=keras.layers.Input(shape=(128,259,1),name=\"mSpecInput\")\n",
        "x=keras.layers.Conv2D(32,5,strides=(2,3),padding='same')(mSpec_input)\n",
        "x = squeeze_excite_block(x)\n",
        "x=keras.layers.BatchNormalization()(x)\n",
        "x=keras.layers.Activation(keras.activations.relu)(x)\n",
        "x=keras.layers.MaxPooling2D(pool_size=2,padding='valid')(x)\n",
        "\n",
        "x=keras.layers.Conv2D(64,3,strides=(2,2),padding='same')(x)\n",
        "x = squeeze_excite_block(x)\n",
        "x=keras.layers.BatchNormalization()(x)\n",
        "x=keras.layers.Activation(keras.activations.relu)(x)\n",
        "x=keras.layers.MaxPooling2D(pool_size=2,padding='valid')(x)\n",
        "\n",
        "x=keras.layers.Conv2D(96,2,padding='same')(x)\n",
        "x = squeeze_excite_block(x)\n",
        "x=keras.layers.BatchNormalization()(x)\n",
        "x=keras.layers.Activation(keras.activations.relu)(x)\n",
        "x=keras.layers.MaxPooling2D(pool_size=2,padding='valid')(x)\n",
        "\n",
        "x=keras.layers.Conv2D(128,2,padding='same')(x)\n",
        "x = squeeze_excite_block(x)\n",
        "x=keras.layers.BatchNormalization()(x)\n",
        "x=keras.layers.Activation(keras.activations.relu)(x)\n",
        "mSpec_output=keras.layers.GlobalMaxPooling2D()(x)\n",
        "\n",
        "mSpec_model=keras.Model(mSpec_input, mSpec_output, name=\"mSpecModel\")"
      ],
      "metadata": {
        "id": "9jUpD77g2HO0"
      },
      "execution_count": 42,
      "outputs": []
    },
    {
      "cell_type": "code",
      "source": [
        "rms_input=keras.layers.Input(shape=(1,259,1),name=\"rmsInput\")\n",
        "x=keras.layers.Conv2D(32,5,strides=(2,3),padding='same')(rms_input)\n",
        "x = squeeze_excite_block(x)\n",
        "x=keras.layers.BatchNormalization()(x)\n",
        "x=keras.layers.Activation(keras.activations.relu)(x)\n",
        "x=keras.layers.Conv2D(64,5,strides=(2,3),padding='same')(x)\n",
        "x = squeeze_excite_block(x)\n",
        "x=keras.layers.BatchNormalization()(x)\n",
        "x=keras.layers.Activation(keras.activations.relu)(x)\n",
        "x=keras.layers.Conv2D(96,5,strides=(2,3),padding='same')(x)\n",
        "x = squeeze_excite_block(x)\n",
        "x=keras.layers.BatchNormalization()(x)\n",
        "x=keras.layers.Activation(keras.activations.relu)(x)\n",
        "rms_output=keras.layers.GlobalMaxPooling2D()(x)\n",
        "\n",
        "rms_model=keras.Model(rms_input, rms_output, name=\"rmsModel\")"
      ],
      "metadata": {
        "id": "qweZX8SGgSOJ"
      },
      "execution_count": 43,
      "outputs": []
    },
    {
      "cell_type": "code",
      "source": [
        "input_mfcc=keras.layers.Input(shape=(20,259,1),name=\"mfcc\")\n",
        "mfcc=mfcc_model(input_mfcc)\n",
        "\n",
        "input_croma=keras.layers.Input(shape=(12,259,1),name=\"croma\")\n",
        "croma=croma_model(input_croma)\n",
        "\n",
        "input_mSpec=keras.layers.Input(shape=(128,259,1),name=\"mspec\")\n",
        "mSpec=mSpec_model(input_mSpec)\n",
        "\n",
        "input_rms=keras.layers.Input(shape=(1,259,1),name=\"rms\")\n",
        "rms=rms_model(input_rms)\n",
        "\n",
        "\n",
        "concat=keras.layers.concatenate([mfcc,croma,mSpec,rms])\n",
        "hidden=keras.layers.Dropout(0.2)(concat)\n",
        "hidden=keras.layers.Dense(256,activation='relu')(concat)\n",
        "hidden=keras.layers.Dropout(0.3)(hidden)\n",
        "hidden=keras.layers.Dense(128,activation='relu')(hidden)\n",
        "hidden=keras.layers.Dropout(0.3)(hidden)\n",
        "output=keras.layers.Dense(8,activation='softmax')(hidden)\n",
        "\n",
        "net=keras.Model([input_mfcc,input_croma,input_mSpec,input_rms], output, name=\"Net\")"
      ],
      "metadata": {
        "id": "PA4gy1O82N5n"
      },
      "execution_count": 44,
      "outputs": []
    },
    {
      "cell_type": "code",
      "source": [
        "net.summary()"
      ],
      "metadata": {
        "colab": {
          "base_uri": "https://localhost:8080/"
        },
        "id": "8zLcL4Ur2RKJ",
        "outputId": "13f17295-4f11-4f01-be0a-0f288ba97f18"
      },
      "execution_count": 45,
      "outputs": [
        {
          "output_type": "stream",
          "name": "stdout",
          "text": [
            "Model: \"Net\"\n",
            "__________________________________________________________________________________________________\n",
            " Layer (type)                   Output Shape         Param #     Connected to                     \n",
            "==================================================================================================\n",
            " mfcc (InputLayer)              [(None, 20, 259, 1)  0           []                               \n",
            "                                ]                                                                 \n",
            "                                                                                                  \n",
            " croma (InputLayer)             [(None, 12, 259, 1)  0           []                               \n",
            "                                ]                                                                 \n",
            "                                                                                                  \n",
            " mspec (InputLayer)             [(None, 128, 259, 1  0           []                               \n",
            "                                )]                                                                \n",
            "                                                                                                  \n",
            " rms (InputLayer)               [(None, 1, 259, 1)]  0           []                               \n",
            "                                                                                                  \n",
            " mfccModel (Functional)         (None, 128)          98400       ['mfcc[0][0]']                   \n",
            "                                                                                                  \n",
            " cromaModel (Functional)        (None, 128)          55808       ['croma[0][0]']                  \n",
            "                                                                                                  \n",
            " mSpecModel (Functional)        (None, 128)          98400       ['mspec[0][0]']                  \n",
            "                                                                                                  \n",
            " rmsModel (Functional)          (None, 96)           208352      ['rms[0][0]']                    \n",
            "                                                                                                  \n",
            " concatenate_2 (Concatenate)    (None, 480)          0           ['mfccModel[0][0]',              \n",
            "                                                                  'cromaModel[0][0]',             \n",
            "                                                                  'mSpecModel[0][0]',             \n",
            "                                                                  'rmsModel[0][0]']               \n",
            "                                                                                                  \n",
            " dense_36 (Dense)               (None, 256)          123136      ['concatenate_2[0][0]']          \n",
            "                                                                                                  \n",
            " dropout_7 (Dropout)            (None, 256)          0           ['dense_36[0][0]']               \n",
            "                                                                                                  \n",
            " dense_37 (Dense)               (None, 128)          32896       ['dropout_7[0][0]']              \n",
            "                                                                                                  \n",
            " dropout_8 (Dropout)            (None, 128)          0           ['dense_37[0][0]']               \n",
            "                                                                                                  \n",
            " dense_38 (Dense)               (None, 8)            1032        ['dropout_8[0][0]']              \n",
            "                                                                                                  \n",
            "==================================================================================================\n",
            "Total params: 618,024\n",
            "Trainable params: 615,912\n",
            "Non-trainable params: 2,112\n",
            "__________________________________________________________________________________________________\n"
          ]
        }
      ]
    },
    {
      "cell_type": "code",
      "source": [
        "from keras import backend as K\n",
        "net.compile(loss='sparse_categorical_crossentropy', optimizer='nadam', metrics=['accuracy'])\n",
        "K.set_value(net.optimizer.learning_rate, 0.001)"
      ],
      "metadata": {
        "id": "u4EHxktO2Xrb"
      },
      "execution_count": 46,
      "outputs": []
    },
    {
      "cell_type": "code",
      "source": [
        "history=net.fit(\n",
        "    {\"mfcc\":mfcc_train,\"croma\":cstft_train,\"mspec\":mSpec_train,\"rms\":rms_train},\n",
        "    ytrain,\n",
        "    validation_data=({\"mfcc\":mfcc_val,\"croma\":cstft_val,\"mspec\":mSpec_val,\"rms\":rms_val},yval),\n",
        "    epochs=100,\n",
        "    callbacks=my_callbacks\n",
        ")"
      ],
      "metadata": {
        "id": "s18clPjp2aV8",
        "colab": {
          "base_uri": "https://localhost:8080/"
        },
        "outputId": "857cbc21-ad45-49c3-8e20-9e4356a714c7"
      },
      "execution_count": 47,
      "outputs": [
        {
          "output_type": "stream",
          "name": "stdout",
          "text": [
            "Epoch 1/100\n",
            "142/142 [==============================] - ETA: 0s - loss: 0.6776 - accuracy: 0.8247\n",
            "Epoch 1: val_loss did not improve from 0.15865\n",
            "142/142 [==============================] - 91s 563ms/step - loss: 0.6776 - accuracy: 0.8247 - val_loss: 1.1087 - val_accuracy: 0.8402\n",
            "Epoch 2/100\n",
            "142/142 [==============================] - ETA: 0s - loss: 0.4607 - accuracy: 0.8448\n",
            "Epoch 2: val_loss did not improve from 0.15865\n",
            "142/142 [==============================] - 80s 562ms/step - loss: 0.4607 - accuracy: 0.8448 - val_loss: 0.4567 - val_accuracy: 0.8408\n",
            "Epoch 3/100\n",
            "142/142 [==============================] - ETA: 0s - loss: 0.3718 - accuracy: 0.8633\n",
            "Epoch 3: val_loss did not improve from 0.15865\n",
            "142/142 [==============================] - 78s 549ms/step - loss: 0.3718 - accuracy: 0.8633 - val_loss: 1.1791 - val_accuracy: 0.5839\n",
            "Epoch 4/100\n",
            "142/142 [==============================] - ETA: 0s - loss: 0.3358 - accuracy: 0.8699\n",
            "Epoch 4: val_loss did not improve from 0.15865\n",
            "142/142 [==============================] - 78s 551ms/step - loss: 0.3358 - accuracy: 0.8699 - val_loss: 0.3339 - val_accuracy: 0.8758\n",
            "Epoch 5/100\n",
            "142/142 [==============================] - ETA: 0s - loss: 0.2971 - accuracy: 0.8866\n",
            "Epoch 5: val_loss did not improve from 0.15865\n",
            "142/142 [==============================] - 77s 544ms/step - loss: 0.2971 - accuracy: 0.8866 - val_loss: 0.3732 - val_accuracy: 0.8732\n",
            "Epoch 6/100\n",
            "142/142 [==============================] - ETA: 0s - loss: 0.2642 - accuracy: 0.8965\n",
            "Epoch 6: val_loss did not improve from 0.15865\n",
            "142/142 [==============================] - 77s 546ms/step - loss: 0.2642 - accuracy: 0.8965 - val_loss: 0.3639 - val_accuracy: 0.8712\n",
            "Epoch 7/100\n",
            "142/142 [==============================] - ETA: 0s - loss: 0.2424 - accuracy: 0.9000\n",
            "Epoch 7: val_loss did not improve from 0.15865\n",
            "142/142 [==============================] - 78s 547ms/step - loss: 0.2424 - accuracy: 0.9000 - val_loss: 0.4279 - val_accuracy: 0.8190\n",
            "Epoch 8/100\n",
            "142/142 [==============================] - ETA: 0s - loss: 0.2249 - accuracy: 0.9115\n",
            "Epoch 8: val_loss did not improve from 0.15865\n",
            "142/142 [==============================] - 77s 544ms/step - loss: 0.2249 - accuracy: 0.9115 - val_loss: 0.7698 - val_accuracy: 0.8487\n",
            "Epoch 9/100\n",
            "142/142 [==============================] - ETA: 0s - loss: 0.2114 - accuracy: 0.9194\n",
            "Epoch 9: val_loss did not improve from 0.15865\n",
            "142/142 [==============================] - 77s 543ms/step - loss: 0.2114 - accuracy: 0.9194 - val_loss: 0.3329 - val_accuracy: 0.8871\n",
            "Epoch 10/100\n",
            "142/142 [==============================] - ETA: 0s - loss: 0.1950 - accuracy: 0.9218\n",
            "Epoch 10: val_loss did not improve from 0.15865\n",
            "142/142 [==============================] - 77s 543ms/step - loss: 0.1950 - accuracy: 0.9218 - val_loss: 0.3180 - val_accuracy: 0.8771\n",
            "Epoch 11/100\n",
            "142/142 [==============================] - ETA: 0s - loss: 0.1920 - accuracy: 0.9262\n",
            "Epoch 11: val_loss did not improve from 0.15865\n",
            "142/142 [==============================] - 77s 542ms/step - loss: 0.1920 - accuracy: 0.9262 - val_loss: 0.3959 - val_accuracy: 0.8785\n",
            "Epoch 12/100\n",
            "142/142 [==============================] - ETA: 0s - loss: 0.1705 - accuracy: 0.9333\n",
            "Epoch 12: val_loss did not improve from 0.15865\n",
            "142/142 [==============================] - 76s 536ms/step - loss: 0.1705 - accuracy: 0.9333 - val_loss: 0.5031 - val_accuracy: 0.8164\n",
            "Epoch 13/100\n",
            "142/142 [==============================] - ETA: 0s - loss: 0.1507 - accuracy: 0.9408\n",
            "Epoch 13: val_loss did not improve from 0.15865\n",
            "142/142 [==============================] - 76s 539ms/step - loss: 0.1507 - accuracy: 0.9408 - val_loss: 0.4598 - val_accuracy: 0.8692\n",
            "Epoch 14/100\n",
            "142/142 [==============================] - ETA: 0s - loss: 0.1435 - accuracy: 0.9456\n",
            "Epoch 14: val_loss did not improve from 0.15865\n",
            "142/142 [==============================] - 76s 536ms/step - loss: 0.1435 - accuracy: 0.9456 - val_loss: 0.3219 - val_accuracy: 0.8937\n",
            "Epoch 15/100\n",
            "142/142 [==============================] - ETA: 0s - loss: 0.1303 - accuracy: 0.9498\n",
            "Epoch 15: val_loss did not improve from 0.15865\n",
            "142/142 [==============================] - 76s 537ms/step - loss: 0.1303 - accuracy: 0.9498 - val_loss: 0.2915 - val_accuracy: 0.9075\n",
            "Epoch 16/100\n",
            "142/142 [==============================] - ETA: 0s - loss: 0.1142 - accuracy: 0.9562\n",
            "Epoch 16: val_loss did not improve from 0.15865\n",
            "142/142 [==============================] - 78s 550ms/step - loss: 0.1142 - accuracy: 0.9562 - val_loss: 2.6103 - val_accuracy: 0.8448\n",
            "Epoch 17/100\n",
            "142/142 [==============================] - ETA: 0s - loss: 0.1020 - accuracy: 0.9635\n",
            "Epoch 17: val_loss did not improve from 0.15865\n",
            "142/142 [==============================] - 78s 548ms/step - loss: 0.1020 - accuracy: 0.9635 - val_loss: 0.5863 - val_accuracy: 0.8725\n",
            "Epoch 18/100\n",
            "142/142 [==============================] - ETA: 0s - loss: 0.1187 - accuracy: 0.9546\n",
            "Epoch 18: val_loss did not improve from 0.15865\n",
            "142/142 [==============================] - 78s 548ms/step - loss: 0.1187 - accuracy: 0.9546 - val_loss: 0.7960 - val_accuracy: 0.8474\n",
            "Epoch 19/100\n",
            "142/142 [==============================] - ETA: 0s - loss: 0.1555 - accuracy: 0.9498\n",
            "Epoch 19: val_loss did not improve from 0.15865\n",
            "142/142 [==============================] - 78s 548ms/step - loss: 0.1555 - accuracy: 0.9498 - val_loss: 0.6863 - val_accuracy: 0.8362\n",
            "Epoch 20/100\n",
            "142/142 [==============================] - ETA: 0s - loss: 0.1077 - accuracy: 0.9635\n",
            "Epoch 20: val_loss did not improve from 0.15865\n",
            "142/142 [==============================] - 79s 554ms/step - loss: 0.1077 - accuracy: 0.9635 - val_loss: 0.4388 - val_accuracy: 0.8956\n",
            "Epoch 21/100\n",
            "142/142 [==============================] - ETA: 0s - loss: 0.0826 - accuracy: 0.9718\n",
            "Epoch 21: val_loss did not improve from 0.15865\n",
            "142/142 [==============================] - 78s 549ms/step - loss: 0.0826 - accuracy: 0.9718 - val_loss: 0.4462 - val_accuracy: 0.8917\n",
            "Epoch 22/100\n",
            "142/142 [==============================] - ETA: 0s - loss: 0.0791 - accuracy: 0.9707\n",
            "Epoch 22: val_loss did not improve from 0.15865\n",
            "142/142 [==============================] - 78s 549ms/step - loss: 0.0791 - accuracy: 0.9707 - val_loss: 0.5886 - val_accuracy: 0.8798\n",
            "Epoch 23/100\n",
            "142/142 [==============================] - ETA: 0s - loss: 0.0827 - accuracy: 0.9716\n",
            "Epoch 23: val_loss did not improve from 0.15865\n",
            "142/142 [==============================] - 79s 554ms/step - loss: 0.0827 - accuracy: 0.9716 - val_loss: 0.2205 - val_accuracy: 0.9300\n",
            "Epoch 24/100\n",
            "142/142 [==============================] - ETA: 0s - loss: 0.0678 - accuracy: 0.9775\n",
            "Epoch 24: val_loss did not improve from 0.15865\n",
            "142/142 [==============================] - 78s 547ms/step - loss: 0.0678 - accuracy: 0.9775 - val_loss: 0.6034 - val_accuracy: 0.8719\n",
            "Epoch 25/100\n",
            "142/142 [==============================] - ETA: 0s - loss: 0.0614 - accuracy: 0.9784\n",
            "Epoch 25: val_loss did not improve from 0.15865\n",
            "142/142 [==============================] - 77s 546ms/step - loss: 0.0614 - accuracy: 0.9784 - val_loss: 0.2522 - val_accuracy: 0.9359\n",
            "Epoch 26/100\n",
            "142/142 [==============================] - ETA: 0s - loss: 0.0647 - accuracy: 0.9769\n",
            "Epoch 26: val_loss did not improve from 0.15865\n",
            "142/142 [==============================] - 78s 548ms/step - loss: 0.0647 - accuracy: 0.9769 - val_loss: 0.9196 - val_accuracy: 0.7867\n",
            "Epoch 27/100\n",
            "142/142 [==============================] - ETA: 0s - loss: 0.0678 - accuracy: 0.9773\n",
            "Epoch 27: val_loss did not improve from 0.15865\n",
            "142/142 [==============================] - 78s 546ms/step - loss: 0.0678 - accuracy: 0.9773 - val_loss: 0.4416 - val_accuracy: 0.9055\n",
            "Epoch 28/100\n",
            "142/142 [==============================] - ETA: 0s - loss: 0.0422 - accuracy: 0.9857\n",
            "Epoch 28: val_loss did not improve from 0.15865\n",
            "142/142 [==============================] - 77s 546ms/step - loss: 0.0422 - accuracy: 0.9857 - val_loss: 0.2756 - val_accuracy: 0.9293\n",
            "Epoch 29/100\n",
            "142/142 [==============================] - ETA: 0s - loss: 0.0373 - accuracy: 0.9863\n",
            "Epoch 29: val_loss did not improve from 0.15865\n",
            "142/142 [==============================] - 77s 546ms/step - loss: 0.0373 - accuracy: 0.9863 - val_loss: 0.3722 - val_accuracy: 0.9095\n",
            "Epoch 30/100\n",
            "142/142 [==============================] - ETA: 0s - loss: 0.0507 - accuracy: 0.9857\n",
            "Epoch 30: val_loss did not improve from 0.15865\n",
            "142/142 [==============================] - 78s 546ms/step - loss: 0.0507 - accuracy: 0.9857 - val_loss: 0.3142 - val_accuracy: 0.9287\n",
            "Epoch 31/100\n",
            "142/142 [==============================] - ETA: 0s - loss: 0.0477 - accuracy: 0.9866\n",
            "Epoch 31: val_loss did not improve from 0.15865\n",
            "142/142 [==============================] - 79s 554ms/step - loss: 0.0477 - accuracy: 0.9866 - val_loss: 0.2386 - val_accuracy: 0.9399\n",
            "Epoch 32/100\n",
            "142/142 [==============================] - ETA: 0s - loss: 0.0380 - accuracy: 0.9897\n",
            "Epoch 32: val_loss did not improve from 0.15865\n",
            "142/142 [==============================] - 79s 556ms/step - loss: 0.0380 - accuracy: 0.9897 - val_loss: 1.7955 - val_accuracy: 0.6275\n",
            "Epoch 33/100\n",
            "142/142 [==============================] - ETA: 0s - loss: 0.0427 - accuracy: 0.9855\n",
            "Epoch 33: val_loss did not improve from 0.15865\n",
            "Restoring model weights from the end of the best epoch: 23.\n",
            "142/142 [==============================] - 78s 550ms/step - loss: 0.0427 - accuracy: 0.9855 - val_loss: 0.5964 - val_accuracy: 0.8573\n",
            "Epoch 33: early stopping\n"
          ]
        }
      ]
    },
    {
      "cell_type": "code",
      "source": [
        "from sklearn.metrics import RocCurveDisplay"
      ],
      "metadata": {
        "id": "dLGB4zwqmg7t"
      },
      "execution_count": 48,
      "outputs": []
    },
    {
      "cell_type": "code",
      "source": [
        "epochs = list(range(len(history.history['accuracy'])))\n",
        "fig , ax = plt.subplots(1,2)\n",
        "train_acc = history.history['accuracy']\n",
        "train_loss = history.history['loss']\n",
        "val_acc = history.history['val_accuracy']\n",
        "val_loss = history.history['val_loss']\n",
        "\n",
        "fig.set_size_inches(20,10)\n",
        "\n",
        "ax[0].plot(epochs , train_acc , 'go-' ,color='r', label = 'Training Accuracy')\n",
        "ax[0].plot(epochs , val_acc , 'go-' , label = 'Validation Accuracy')\n",
        "ax[0].set_title('Training Accuracy')\n",
        "ax[0].legend()\n",
        "ax[0].set_xlabel(\"Epochs\")\n",
        "ax[0].set_ylabel(\"Accuracy\")\n",
        "\n",
        "ax[1].plot(epochs , train_loss , 'g-o' ,color='r', label = 'Training Loss')\n",
        "ax[1].plot(epochs , val_loss , 'go-' , label = 'Validation Loss')\n",
        "ax[1].set_title('Training Loss')\n",
        "ax[1].legend()\n",
        "ax[1].set_xlabel(\"Epochs\")\n",
        "ax[1].set_ylabel(\"Training Loss\")\n",
        "plt.show()"
      ],
      "metadata": {
        "colab": {
          "base_uri": "https://localhost:8080/",
          "height": 621
        },
        "id": "nwYKT1zfJslN",
        "outputId": "6f5cedaf-c110-4808-cc0b-a2500e5ed8d7"
      },
      "execution_count": 49,
      "outputs": [
        {
          "output_type": "display_data",
          "data": {
            "text/plain": [
              "<Figure size 1440x720 with 2 Axes>"
            ],
            "image/png": "[encoded data removed]"
          },
          "metadata": {
            "needs_background": "light"
          }
        }
      ]
    },
    {
      "cell_type": "code",
      "source": [],
      "metadata": {
        "id": "fpVWZpYLKE6x"
      },
      "execution_count": null,
      "outputs": []
    },
    {
      "cell_type": "code",
      "source": [
        "net.evaluate({\"mfcc\":mfcc_train,\"croma\":cstft_train,\"mspec\":mSpec_train,\"rms\":rms_train},ytrain)\n",
        "net.evaluate({\"mfcc\":mfcc_val,\"croma\":cstft_val,\"mspec\":mSpec_val,\"rms\":rms_val},yval)"
      ],
      "metadata": {
        "colab": {
          "base_uri": "https://localhost:8080/"
        },
        "id": "7YvMJIMCYOzg",
        "outputId": "f0bd2de2-2317-4f6c-e3aa-de7f45c6f802"
      },
      "execution_count": 50,
      "outputs": [
        {
          "output_type": "stream",
          "name": "stdout",
          "text": [
            "142/142 [==============================] - 17s 120ms/step - loss: 0.0556 - accuracy: 0.9795\n",
            "48/48 [==============================] - 6s 118ms/step - loss: 0.2205 - accuracy: 0.9300\n"
          ]
        },
        {
          "output_type": "execute_result",
          "data": {
            "text/plain": [
              "[0.22048115730285645, 0.9299867749214172]"
            ]
          },
          "metadata": {},
          "execution_count": 50
        }
      ]
    },
    {
      "cell_type": "code",
      "source": [
        "from sklearn.metrics import roc_curve,auc\n",
        "def plot_multiclass_roc(clf, X_test, y_test, n_classes, figsize=(17, 6)):\n",
        "    y_score = clf.predict(X_test)\n",
        "\n",
        "    # structures\n",
        "    fpr = dict()\n",
        "    tpr = dict()\n",
        "    roc_auc = dict()\n",
        "\n",
        "    # calculate dummies once\n",
        "    y_test_dummies = pd.get_dummies(y_test, drop_first=False).values\n",
        "    for i in range(n_classes):\n",
        "        fpr[i], tpr[i], _ = roc_curve(y_test_dummies[:, i], y_score[:, i])\n",
        "        roc_auc[i] = auc(fpr[i], tpr[i])\n",
        "        print(roc_auc[i])\n",
        "\n",
        "    # roc for each class\n",
        "    fig, ax = plt.subplots(figsize=figsize)\n",
        "    ax.plot([0, 5], [0, 5], 'k--')\n",
        "    ax.set_xlim([0.0, 1.1])\n",
        "    ax.set_ylim([0.0, 1.1])\n",
        "    ax.set_xlabel('False Positive Rate')\n",
        "    ax.set_ylabel('True Positive Rate')\n",
        "    ax.set_title('Receiver operating characteristic example')\n",
        "    for i in range(n_classes):\n",
        "        ax.plot(fpr[i], tpr[i], label='ROC curve (area = %0.2f) for label %i' % (roc_auc[i], i))\n",
        "    ax.legend(loc=\"best\")\n",
        "    ax.grid(alpha=10.0)\n",
        "    sns.despine()\n",
        "    plt.show()\n",
        "\n",
        "plot_multiclass_roc(net, {\"mfcc\":mfcc_val,\"croma\":cstft_val,\"mspec\":mSpec_val,\"rms\":rms_val}, yval, n_classes=8, figsize=(20, 10))"
      ],
      "metadata": {
        "colab": {
          "base_uri": "https://localhost:8080/",
          "height": 777
        },
        "id": "XAmKwL9XKUgB",
        "outputId": "822cab15-39c0-4433-9492-6312898843f4"
      },
      "execution_count": 51,
      "outputs": [
        {
          "output_type": "stream",
          "name": "stdout",
          "text": [
            "48/48 [==============================] - 7s 119ms/step\n",
            "0.9993386243386244\n",
            "0.9953926457294491\n",
            "0.9853338632750397\n",
            "0.995507172929986\n",
            "0.9825025216329565\n",
            "0.9746015936254979\n",
            "0.9906440775927464\n",
            "0.9811320754716981\n"
          ]
        },
        {
          "output_type": "display_data",
          "data": {
            "text/plain": [
              "<Figure size 1440x720 with 1 Axes>"
            ],
            "image/png": "[encoded data removed]"
          },
          "metadata": {
            "needs_background": "light"
          }
        }
      ]
    },
    {
      "cell_type": "code",
      "source": [
        "from sklearn.metrics import confusion_matrix\n",
        "y_pred = net.predict({\"mfcc\":mfcc_val,\"croma\":cstft_val,\"mspec\":mSpec_val,\"rms\":rms_val})\n",
        "\n",
        "y_pred = np.argmax(y_pred,axis=1)\n",
        "confusion = confusion_matrix(yval, y_pred)\n",
        "print('Confusion Matrix\\n')\n",
        "print(confusion)\n",
        "\n",
        "#importing accuracy_score, precision_score, recall_score, f1_score\n",
        "from sklearn.metrics import accuracy_score, precision_score, recall_score, f1_score\n",
        "print('\\nAccuracy: {:.2f}\\n'.format(accuracy_score(yval, y_pred)))\n",
        "\n",
        "print('Micro Precision: {:.2f}'.format(precision_score(yval, y_pred, average='micro')))\n",
        "print('Micro Recall: {:.2f}'.format(recall_score(yval, y_pred, average='micro')))\n",
        "print('Micro F1-score: {:.2f}\\n'.format(f1_score(yval, y_pred, average='micro')))\n",
        "\n",
        "print('Macro Precision: {:.2f}'.format(precision_score(yval, y_pred, average='macro')))\n",
        "print('Macro Recall: {:.2f}'.format(recall_score(yval, y_pred, average='macro')))\n",
        "print('Macro F1-score: {:.2f}\\n'.format(f1_score(yval, y_pred, average='macro')))\n",
        "\n",
        "print('Weighted Precision: {:.2f}'.format(precision_score(yval, y_pred, average='weighted')))\n",
        "print('Weighted Recall: {:.2f}'.format(recall_score(yval, y_pred, average='weighted')))\n",
        "print('Weighted F1-score: {:.2f}'.format(f1_score(yval, y_pred, average='weighted')))\n",
        "\n",
        "from sklearn.metrics import classification_report\n",
        "print('\\nClassification Report\\n')\n",
        "print(classification_report(yval, y_pred, target_names=['Class 1', 'Class 2', 'Class 3', 'Class 4', 'Class 5', 'Class 6', 'Class 7', 'Class 8']))"
      ],
      "metadata": {
        "colab": {
          "base_uri": "https://localhost:8080/"
        },
        "id": "KT4YgvEZKYvH",
        "outputId": "ddb60a83-0040-4918-ec23-62eace09780d"
      },
      "execution_count": 52,
      "outputs": [
        {
          "output_type": "stream",
          "name": "stdout",
          "text": [
            "48/48 [==============================] - 6s 118ms/step\n",
            "Confusion Matrix\n",
            "\n",
            "[[   0    0    0    2    0    0    0    0]\n",
            " [   0   18    0    2    1    0    0    2]\n",
            " [   0    1   15    2   12    0    0    4]\n",
            " [   0    1    0 1254   13    0    4    0]\n",
            " [   0    0    2    3   57    0    0    3]\n",
            " [   0    0    0    0    5    0    0    3]\n",
            " [   0    0    0   14    2    0   41    0]\n",
            " [   0    0    2    0   26    1    1   23]]\n",
            "\n",
            "Accuracy: 0.93\n",
            "\n",
            "Micro Precision: 0.93\n",
            "Micro Recall: 0.93\n",
            "Micro F1-score: 0.93\n",
            "\n",
            "Macro Precision: 0.59\n",
            "Macro Recall: 0.53\n",
            "Macro F1-score: 0.54\n",
            "\n",
            "Weighted Precision: 0.93\n",
            "Weighted Recall: 0.93\n",
            "Weighted F1-score: 0.93\n",
            "\n",
            "Classification Report\n",
            "\n",
            "              precision    recall  f1-score   support\n",
            "\n",
            "     Class 1       0.00      0.00      0.00         2\n",
            "     Class 2       0.90      0.78      0.84        23\n",
            "     Class 3       0.79      0.44      0.57        34\n",
            "     Class 4       0.98      0.99      0.98      1272\n",
            "     Class 5       0.49      0.88      0.63        65\n",
            "     Class 6       0.00      0.00      0.00         8\n",
            "     Class 7       0.89      0.72      0.80        57\n",
            "     Class 8       0.66      0.43      0.52        53\n",
            "\n",
            "    accuracy                           0.93      1514\n",
            "   macro avg       0.59      0.53      0.54      1514\n",
            "weighted avg       0.93      0.93      0.93      1514\n",
            "\n"
          ]
        },
        {
          "output_type": "stream",
          "name": "stderr",
          "text": [
            "/usr/local/lib/python3.8/dist-packages/sklearn/metrics/_classification.py:1318: UndefinedMetricWarning: Precision is ill-defined and being set to 0.0 in labels with no predicted samples. Use `zero_division` parameter to control this behavior.\n",
            "  _warn_prf(average, modifier, msg_start, len(result))\n",
            "/usr/local/lib/python3.8/dist-packages/sklearn/metrics/_classification.py:1318: UndefinedMetricWarning: Precision is ill-defined and being set to 0.0 in labels with no predicted samples. Use `zero_division` parameter to control this behavior.\n",
            "  _warn_prf(average, modifier, msg_start, len(result))\n",
            "/usr/local/lib/python3.8/dist-packages/sklearn/metrics/_classification.py:1318: UndefinedMetricWarning: Precision and F-score are ill-defined and being set to 0.0 in labels with no predicted samples. Use `zero_division` parameter to control this behavior.\n",
            "  _warn_prf(average, modifier, msg_start, len(result))\n",
            "/usr/local/lib/python3.8/dist-packages/sklearn/metrics/_classification.py:1318: UndefinedMetricWarning: Precision and F-score are ill-defined and being set to 0.0 in labels with no predicted samples. Use `zero_division` parameter to control this behavior.\n",
            "  _warn_prf(average, modifier, msg_start, len(result))\n",
            "/usr/local/lib/python3.8/dist-packages/sklearn/metrics/_classification.py:1318: UndefinedMetricWarning: Precision and F-score are ill-defined and being set to 0.0 in labels with no predicted samples. Use `zero_division` parameter to control this behavior.\n",
            "  _warn_prf(average, modifier, msg_start, len(result))\n"
          ]
        }
      ]
    }
  ]
}